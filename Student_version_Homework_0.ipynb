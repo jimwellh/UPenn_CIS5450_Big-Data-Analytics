{
  "cells": [
    {
      "cell_type": "markdown",
      "metadata": {
        "id": "view-in-github",
        "colab_type": "text"
      },
      "source": [
        "<a href=\"https://colab.research.google.com/github/jimwellh/UPenn_CIS5450_Big-Data-Analytics/blob/main/Student_version_Homework_0.ipynb\" target=\"_parent\"><img src=\"https://colab.research.google.com/assets/colab-badge.svg\" alt=\"Open In Colab\"/></a>"
      ]
    },
    {
      "cell_type": "markdown",
      "metadata": {
        "id": "whOFv2wpMlhb"
      },
      "source": [
        "# Homework 0: Getting Started (10 points)\n",
        "\n",
        "## Due September 13, 2024 by 10 PM\n",
        "\n",
        "For this initial assignment, our primary goal is to familiarize you with the Jupyter/Python and Apache Spark \"software stack\" we will use through the semester.\n",
        "\n",
        "**This class assumes you are comfortable programming in Python.**\n",
        "\n",
        "We will be using **Google Colab** to do the majority of work in the class, since it offers a standard environment regardless of your personal machine. This very file is a Jupyter **notebook** that you can edit and use to run Python code. Its file extension is “.ipynb” for (I)nteractive (Py)thon (N)ote(b)ook.\n",
        "\n",
        "Notebooks are divided into Cells. Some Cells are text (written in Markdown). You won’t need to edit these. The other Cells are executable code and will have `[ ]` to the left of them. After running one of these Cells, a number will appear inside the brackets, indicating the order in which the Cells were run.\n",
        "\n",
        "\n",
        "<br>\n",
        "\n",
        "#### **Please make a COPY of this notebook!**\n",
        "\n",
        "Please make a COPY of this notebook when you are getting started; nobody should have edit privileges which means that while you can type and run cells here, **it will NOT save**. Make a copy to your own Colab!"
      ]
    },
    {
      "cell_type": "markdown",
      "metadata": {
        "id": "jK6AEVjH0_ws"
      },
      "source": [
        "# Part 1: Cloud Environment Setup\n",
        "\n",
        "If you've gotten to this point, you have already successfully logged into Google Colab!  Most likely you'll want to ``Save a Copy in Drive`` for your own use as you edit your code.  We suggest you don't rename the file as you do so.\n",
        "\n",
        "Since this initial homework uses the whole \"big data\" stack, including Apache Spark, we will first need to do some software setup.\n",
        "\n",
        "Generally speaking we will be running command-line options (eg to install software on the host machine) using the `!` operation, and we will be using `pip` to install Python libraries.\n",
        "\n"
      ]
    },
    {
      "cell_type": "markdown",
      "metadata": {
        "id": "2VnR6DBF1BE6"
      },
      "source": [
        "## 1.1 Installing Spark on Google Colab\n",
        "\n",
        "For big data analysis on a cluster, we'll need to learn to use Apache Spark.  You don't need to fully follow the details here to install Spark on Colab, but you do need to execute the cell!\n",
        "\n",
        "Select it and hit [Shift]-[Enter] to run, or click on the \"play\" triangle to the left."
      ]
    },
    {
      "cell_type": "code",
      "execution_count": null,
      "metadata": {
        "id": "aSKXFI3D-6k2",
        "colab": {
          "base_uri": "https://localhost:8080/"
        },
        "outputId": "fced78ae-91a9-4507-8dae-3da778d473ea"
      },
      "outputs": [
        {
          "output_type": "stream",
          "name": "stdout",
          "text": [
            "env: SPARK_VERSION=3.5.2\n",
            "env: HW_ID=cis2450_fall24_HW0\n"
          ]
        }
      ],
      "source": [
        "%set_env SPARK_VERSION=3.5.2\n",
        "%set_env HW_ID=cis2450_fall24_HW0"
      ]
    },
    {
      "cell_type": "code",
      "execution_count": null,
      "metadata": {
        "id": "Xm4lrIFhMVHR",
        "colab": {
          "base_uri": "https://localhost:8080/"
        },
        "outputId": "d7c3b17a-4252-471e-d18b-f506c60886ba"
      },
      "outputs": [
        {
          "output_type": "stream",
          "name": "stdout",
          "text": [
            "--2024-01-27 17:54:43--  https://downloads.apache.org/spark/spark-3.5.0/spark-3.5.0-bin-hadoop3.tgz\n",
            "Resolving downloads.apache.org (downloads.apache.org)... 88.99.95.219, 135.181.214.104, 2a01:4f9:3a:2c57::2, ...\n",
            "Connecting to downloads.apache.org (downloads.apache.org)|88.99.95.219|:443... connected.\n",
            "HTTP request sent, awaiting response... 200 OK\n",
            "Length: 400395283 (382M) [application/x-gzip]\n",
            "Saving to: ‘spark-3.5.0-bin-hadoop3.tgz’\n",
            "\n",
            "spark-3.5.0-bin-had 100%[===================>] 381.85M  27.7MB/s    in 14s     \n",
            "\n",
            "2024-01-27 17:54:58 (26.4 MB/s) - ‘spark-3.5.0-bin-hadoop3.tgz’ saved [400395283/400395283]\n",
            "\n",
            "Collecting findspark\n",
            "  Downloading findspark-2.0.1-py2.py3-none-any.whl (4.4 kB)\n",
            "Installing collected packages: findspark\n",
            "Successfully installed findspark-2.0.1\n"
          ]
        }
      ],
      "source": [
        "## Let's install Apache Spark on Colab\n",
        "\n",
        "!wget -nc https://downloads.apache.org/spark/spark-$SPARK_VERSION/spark-$SPARK_VERSION-bin-hadoop3.tgz\n",
        "!tar xf spark-$SPARK_VERSION-bin-hadoop3.tgz\n",
        "!pip install findspark\n",
        "\n",
        "import os\n",
        "\n",
        "os.environ[\"SPARK_HOME\"] = \"/content/spark-\" + os.environ['SPARK_VERSION'] + \"-bin-hadoop3\""
      ]
    },
    {
      "cell_type": "markdown",
      "metadata": {
        "id": "g3Y85s0L9vX5"
      },
      "source": [
        "Good, the software should be installed.\n",
        "\n",
        "Now you need to run three more Cells that configure Jupyter for Apache Spark, set up the environment, and connect to Spark."
      ]
    },
    {
      "cell_type": "code",
      "execution_count": null,
      "metadata": {
        "id": "N69M3ZWgMYXH"
      },
      "outputs": [],
      "source": [
        "import findspark\n",
        "\n",
        "findspark.init()\n",
        "\n",
        "import pyspark\n",
        "from pyspark.sql import SparkSession\n",
        "from pyspark.sql.types import *\n",
        "import pyspark.sql.functions as F\n",
        "from pyspark.sql import SQLContext"
      ]
    },
    {
      "cell_type": "code",
      "execution_count": null,
      "metadata": {
        "id": "Qmxb7iPIMZyH",
        "colab": {
          "base_uri": "https://localhost:8080/"
        },
        "outputId": "838e3198-f185-4376-c938-4315024b0bc2"
      },
      "outputs": [
        {
          "output_type": "stream",
          "name": "stderr",
          "text": [
            "/content/spark-3.5.0-bin-hadoop3/python/pyspark/sql/context.py:113: FutureWarning: Deprecated in 3.0.0. Use SparkSession.builder.getOrCreate() instead.\n",
            "  warnings.warn(\n"
          ]
        }
      ],
      "source": [
        "try:\n",
        "    if(spark == None):\n",
        "        spark = SparkSession.builder.appName('Initial').getOrCreate()\n",
        "        sqlContext=SQLContext(spark)\n",
        "except NameError:\n",
        "    spark = SparkSession.builder.appName('Initial').getOrCreate()\n",
        "    sqlContext=SQLContext(spark)\n"
      ]
    },
    {
      "cell_type": "markdown",
      "metadata": {
        "id": "Tn3wuswcj3fw"
      },
      "source": [
        "## 1.2 Autograding and the PennGrader\n",
        "\n",
        "<img align=\"right\" src = \"https://imgur.com/rNd3gIg.png\" width= \"200\"/>\n",
        "\n",
        "Next you'll need to set up the PennGrader, which we'll be using throughout the semester to help you with your homeworks.\n",
        "\n",
        "PennGrader is not only **awesome**, but its initial version was built by an equally awesome person: Big Data Analytics alumnus Leo Murri, who later became a TA for the course.  Today Leo works as a data scientist at Amazon!\n",
        "\n",
        "PennGrader was developed to provide students with *instant* feedback on their answer. You can submit your answer and know whether it's right or wrong instantly. We then record your most recent answer in our backend database."
      ]
    },
    {
      "cell_type": "code",
      "execution_count": null,
      "metadata": {
        "id": "AFixFKy2kAev"
      },
      "outputs": [],
      "source": [
        "%%capture\n",
        "!pip install penngrader-client"
      ]
    },
    {
      "cell_type": "markdown",
      "metadata": {
        "id": "_PFKrty7lK5N"
      },
      "source": [
        "Let's try it out! Fill in the cell below with your 8-digit Penn ID and then run the following cell to initialize the grader."
      ]
    },
    {
      "cell_type": "code",
      "execution_count": null,
      "metadata": {
        "id": "kcS79C9blJBm",
        "colab": {
          "base_uri": "https://localhost:8080/",
          "height": 143
        },
        "outputId": "e54506e6-4ea0-4090-d62f-b62484c82afd"
      },
      "outputs": [
        {
          "output_type": "error",
          "ename": "SyntaxError",
          "evalue": "invalid syntax (<ipython-input-6-ed9a748c5ab3>, line 5)",
          "traceback": [
            "\u001b[0;36m  File \u001b[0;32m\"<ipython-input-6-ed9a748c5ab3>\"\u001b[0;36m, line \u001b[0;32m5\u001b[0m\n\u001b[0;31m    STUDENT_ID =\u001b[0m\n\u001b[0m                ^\u001b[0m\n\u001b[0;31mSyntaxError\u001b[0m\u001b[0;31m:\u001b[0m invalid syntax\n"
          ]
        }
      ],
      "source": [
        "# PLEASE ENSURE YOUR PENN-ID IS ENTERED CORRECTLY. IF NOT, THE AUTOGRADER WON'T KNOW WHO\n",
        "# TO ASSIGN POINTS TO YOU IN OUR BACKEND\n",
        "\n",
        "# TODO: Assign the STUDENT_ID variable your PENN-ID as an integer\n",
        "STUDENT_ID =\n",
        "\n",
        "SECRET = STUDENT_ID"
      ]
    },
    {
      "cell_type": "code",
      "execution_count": null,
      "metadata": {
        "id": "8ToIBcSTdJ0j"
      },
      "outputs": [],
      "source": [
        "%%writefile notebook-config.yaml\n",
        "\n",
        "grader_api_url: 'https://23whrwph9h.execute-api.us-east-1.amazonaws.com/default/Grader23'\n",
        "grader_api_key: 'flfkE736fA6Z8GxMDJe2q8Kfk8UDqjsG3GVqOFOa'"
      ]
    },
    {
      "cell_type": "code",
      "execution_count": null,
      "metadata": {
        "id": "x62rNEosdQdZ"
      },
      "outputs": [],
      "source": [
        "from penngrader.grader import *\n",
        "\n",
        "# Import useful libraries\n",
        "import pandas as pd\n",
        "import numpy as np\n",
        "import seaborn as sns\n",
        "from string import ascii_letters\n",
        "import matplotlib.pyplot as plt\n",
        "import datetime as dt\n",
        "import requests\n",
        "from lxml import html\n",
        "import math"
      ]
    },
    {
      "cell_type": "code",
      "execution_count": null,
      "metadata": {
        "id": "wd0oMe8glNnA"
      },
      "outputs": [],
      "source": [
        "grader = PennGrader('notebook-config.yaml', os.environ['HW_ID'], STUDENT_ID, SECRET)"
      ]
    },
    {
      "cell_type": "markdown",
      "metadata": {
        "id": "KVm1kMgrgG6E"
      },
      "source": [
        "# Part 2: Your First CIS 2450 Notebook\n",
        "\n",
        "The rest of the assignment will try to illustrate a few aspects of data analytics...  Don't be concerned if you don't yet know all of the operations, libraries, etc. because that's what we'll be covering soon!"
      ]
    },
    {
      "cell_type": "markdown",
      "metadata": {
        "id": "hpAxQ5Ac1O5v"
      },
      "source": [
        "## 2.1 A Simple Program to Read from the Web and Invoke Spark\n",
        "\n",
        "The cell below uses the **Pandas** library to read a table from the given web page (the Wikipedia information on films in the year 2010).  The code loads this into a list of **DataFrames** called `films_2010`.  We then pull the table at index 3, then do some simple **data wrangling** on `top_films` to set up the appropriate types.\n",
        "\n",
        "Select the Cell below and then select the Run button which appeared over the brackets."
      ]
    },
    {
      "cell_type": "code",
      "execution_count": null,
      "metadata": {
        "id": "-IG5hBbY97J8"
      },
      "outputs": [],
      "source": [
        "!pip install money-parser"
      ]
    },
    {
      "cell_type": "code",
      "execution_count": null,
      "metadata": {
        "id": "K0c5Tsrjhou0"
      },
      "outputs": [],
      "source": [
        "import pandas as pd\n",
        "from money_parser import price_dec\n",
        "\n",
        "def extract_number(x):\n",
        "  items = str(x).split('[')\n",
        "  return round(price_dec(items[0]) / 1000000, 2)\n",
        "\n",
        "films_2024 = pd.read_html('https://en.wikipedia.org/wiki/2024_in_film')\n",
        "\n",
        "top_films = films_2024[2]\n",
        "\n",
        "top_films.set_index('Rank', inplace=True)\n",
        "\n",
        "top_films['Revenue (millions)'] = top_films['Worldwide gross'].apply(extract_number)\n",
        "\n",
        "top_films"
      ]
    },
    {
      "cell_type": "markdown",
      "metadata": {
        "id": "lHYYZNCe-eM1"
      },
      "source": [
        "Can we programmatically compute how many entries were scored as top films?"
      ]
    },
    {
      "cell_type": "code",
      "execution_count": null,
      "metadata": {
        "id": "FfBjaH1U-hIh"
      },
      "outputs": [],
      "source": [
        "# You can use the Python len() function on a dataframe to figure out how many rows!\n",
        "\n",
        "# TODO: Update dataframe_length with your code here!\n",
        "dataframe_length = 0"
      ]
    },
    {
      "cell_type": "code",
      "execution_count": null,
      "metadata": {
        "id": "st8grxXxk1cy"
      },
      "outputs": [],
      "source": [
        "# Run this cell to submit to PennGrader!\n",
        "\n",
        "grader.grade(test_case_id = 'length_test', answer = dataframe_length)"
      ]
    },
    {
      "cell_type": "markdown",
      "metadata": {
        "id": "k5aP5_h8srJ9"
      },
      "source": [
        "Now we will copy the table over to **Apache Spark**, which is a big data engine capable of processing giant tables.\n",
        "\n",
        "We will **query** the table to get top films from Disney."
      ]
    },
    {
      "cell_type": "code",
      "execution_count": null,
      "metadata": {
        "id": "tUWgHOoBgF6K"
      },
      "outputs": [],
      "source": [
        "from pyspark.sql.types import *\n",
        "\n",
        "# The 'schema' specifies the column names and data types\n",
        "schema = StructType([StructField('Title', StringType(), nullable=True), \\\n",
        "            StructField('Distributor', StringType(), nullable=False), \\\n",
        "            StructField('Gross', StringType(), nullable=False), \\\n",
        "            StructField('Revenue_M', DecimalType(), nullable=False)])\n",
        "\n",
        "# This loads a Pandas DataFrame into Apache Spark\n",
        "top_films_spark = spark.createDataFrame(top_films, \\\n",
        "                                         schema=schema)\n",
        "\n",
        "# Now use Spark to filter only those rows where the distributor is 'Disney'\n",
        "disney_films = top_films_spark.filter(top_films_spark.Distributor == 'Disney')\n",
        "display(disney_films.collect())"
      ]
    },
    {
      "cell_type": "markdown",
      "metadata": {
        "id": "CO7JiYf3gzbS"
      },
      "source": [
        "Congratulations, you have just run a very simple Spark program!\n",
        "\n",
        "## 2.2 Something a Little More Fun\n",
        "Running the cell below will create a scatter plot.\n",
        "\n",
        "**Your task is to edit this cell such that:***\n",
        "\n",
        "1. The text (which says “CIS 2450 student”) should be replaced with your full name.\n",
        "2. The number of values sampled should be 500, and you should  change the figure title to match!\n",
        "\n",
        "4. The x-axis should be labeled “Index”.\n",
        "\n",
        "You may run this cell repeatedly to see the output."
      ]
    },
    {
      "cell_type": "code",
      "execution_count": null,
      "metadata": {
        "id": "stqXhjIOMbOG"
      },
      "outputs": [],
      "source": [
        "# We’ll be using Matplotlib to plot a visualization\n",
        "%matplotlib inline\n",
        "\n",
        "import matplotlib.pyplot as plt\n",
        "import numpy as np\n",
        "\n",
        "# Create a Spark dataset with values 0 thru 499\n",
        "rdd = spark.sparkContext.parallelize(range(500))\n",
        "\n",
        "# TODO: Sample 500 values from the RDD\n",
        "y = np.array(rdd.takeSample(True, 505, 1))\n",
        "# Create an array with the indices\n",
        "x = np.array(range(len(y)))\n",
        "\n",
        "# Create a plot with a caption, X and Y legends, etc\n",
        "x_label = 'Value' # TODO\n",
        "y_label = 'Value'\n",
        "student = 'CIS 2450 student' # TODO\n",
        "\n",
        "plt.title(str(len(y)) + ' random samples from the RDD')\n",
        "plt.xlabel(x_label)\n",
        "plt.ylabel(y_label)\n",
        "plt.figtext(0.995, 0.01, student, ha='right', va='bottom')\n",
        "# Scatter plot that fits within the box\n",
        "plt.scatter(x, y)\n",
        "plt.tight_layout()\n",
        "\n",
        "# Now fit a trend line to the data and plot it over the scatter plot\n",
        "m, c = np.polyfit(x, y, 1)\n",
        "plt.plot(x, m*x + c)\n",
        "\n",
        "# Save the SVG\n",
        "# plt.savefig('hw0.svg')"
      ]
    },
    {
      "cell_type": "markdown",
      "metadata": {
        "id": "daKoWpQZg7EJ"
      },
      "source": [
        "The following test cell prints your name and tests whether you followed the directions."
      ]
    },
    {
      "cell_type": "code",
      "execution_count": null,
      "metadata": {
        "id": "MXhK2uIFg2BJ"
      },
      "outputs": [],
      "source": [
        "print(\"Your name is:\", student)\n",
        "\n",
        "# Run this cell to submit to PennGrader!\n",
        "grader.grade(test_case_id = 'name_test', answer = student)"
      ]
    },
    {
      "cell_type": "markdown",
      "metadata": {
        "id": "P-lbvzjjKEhY"
      },
      "source": [
        "# Part 3: AI over Text\n",
        "\n",
        "You've heard all about Large Language Models. We will use them in some aspects of our study of data importing and wrangling.\n",
        "\n",
        "Next you'll need an API key from OpenAI.  **This will be posted to Ed Discussion**.  Fill it in below."
      ]
    },
    {
      "cell_type": "code",
      "execution_count": null,
      "metadata": {
        "id": "eRW-bcceKWNn"
      },
      "outputs": [],
      "source": [
        "%set_env OPENAI_API_KEY=*your-key-here*"
      ]
    },
    {
      "cell_type": "code",
      "execution_count": null,
      "metadata": {
        "id": "O_D4c3r6KOer"
      },
      "outputs": [],
      "source": [
        "!pip install llama-index\n",
        "!pip install llama-index-llms-langchain\n",
        "!pip install llama-index-llms-openai\n",
        "!pip install langchain\n",
        "!pip install langchain-community\n",
        "!pip install langchain-openai"
      ]
    },
    {
      "cell_type": "markdown",
      "metadata": {
        "id": "InVrD1DpKe_J"
      },
      "source": [
        "Let's load some documents from Wikipedia."
      ]
    },
    {
      "cell_type": "code",
      "execution_count": null,
      "metadata": {
        "id": "YvSDqRdhKhj9"
      },
      "outputs": [],
      "source": [
        "!mkdir to_index\n",
        "\n",
        "!wget https://en.wikipedia.org/wiki/Large_language_model -O llm.html\n",
        "!wget https://en.wikipedia.org/wiki/Data_integration -O di.html\n",
        "!mv *.html to_index"
      ]
    },
    {
      "cell_type": "markdown",
      "source": [
        "##**NOTE: IF THE REMAINDER OF SECTION 3 DOES NOT WORK FOR YOU OR THROWS ERRORS BECAUSE YOU DO NOT HAVE ANY REMAINING OPENAI TOKENS, DO NOT WORRY! WE WILL NOT PENALIZE YOU FOR THIS; YOU DO NOT HAVE TO CREATE A PAID ACCOUNT!**"
      ],
      "metadata": {
        "id": "VhO1qSrZKnxm"
      }
    },
    {
      "cell_type": "markdown",
      "metadata": {
        "id": "o-29vyPmKmM3"
      },
      "source": [
        "We can index the files (or really, pieces of the files) using LlamaIndex and use this to search."
      ]
    },
    {
      "cell_type": "code",
      "execution_count": null,
      "metadata": {
        "id": "TrOPzLZ8Kr6E"
      },
      "outputs": [],
      "source": [
        "import sys\n",
        "import os\n",
        "\n",
        "from langchain import OpenAI\n",
        "from langchain.chat_models import ChatAnyscale, ChatOpenAI\n",
        "from llama_index.core import SimpleDirectoryReader, VectorStoreIndex\n",
        "from llama_index.llms.langchain import LangChainLLM\n",
        "from llama_index import readers\n",
        "\n",
        "llm = LangChainLLM(ChatOpenAI(temperature=0,\n",
        "                                        model_name=\"text-davinci-003\",\n",
        "                                        max_tokens=256))\n",
        "\n",
        "documents = SimpleDirectoryReader('to_index').load_data()\n",
        "index = VectorStoreIndex.from_documents(\n",
        "    documents,\n",
        "    llm_predictor=llm,\n",
        "    persistent=True\n",
        ")\n"
      ]
    },
    {
      "cell_type": "markdown",
      "metadata": {
        "id": "fXs9ukpsKxw-"
      },
      "source": [
        "Now you can run the following cell to ask queries against the indexed content in the database. Press the Stop button when you're done."
      ]
    },
    {
      "cell_type": "code",
      "execution_count": null,
      "metadata": {
        "id": "O39X2L-qKvoq"
      },
      "outputs": [],
      "source": [
        "from IPython.display import Markdown, display\n",
        "\n",
        "while True:\n",
        "    query = input(\"What do you want to ask the Chat Bot? \")\n",
        "    response = index.as_query_engine().query(query)\n",
        "    display(Markdown(f\"The Chat Bot says: <b>{response.response}</b>\"))\n"
      ]
    },
    {
      "cell_type": "markdown",
      "metadata": {
        "id": "VzLJBEcl8r2X"
      },
      "source": [
        "# Part 4: Submitting Your Homework\n",
        "\n",
        "First, note that it's easy to \"break\" your notebook by changing something...  So you should *ALWAYS* clear output and re-run your code, just to make sure that hasn't happened.\n",
        "\n",
        "When you are done, select the \"Runtime\" menu at the top of the window. Then, select \"Restart and run all\". Please make sure all cells complete!\n"
      ]
    },
    {
      "cell_type": "markdown",
      "metadata": {
        "id": "cvJC6H9k1gYD"
      },
      "source": [
        "## 4.1 Submission to Gradescope\n",
        "\n",
        "Now go to the File menu and choose \"Download .ipynb\" and also \"Download .py\".  Go to [Gradescope](https://www.gradescope.com/courses/821025) and:\n",
        "\n",
        "1. (If you didn't read the above carefully) from \"File\" --> Download *both* .ipynb and .py files\n",
        "1. Rename these downloaded files `homework0.ipynb` and `homework0.py`, respectively\n",
        "1. Sign in using your Penn email address (if you are a SEAS student we recommend using the Google login) and ensure  your class is \"BAN_CIS-2450-001 202430\"\n",
        "1. Select Homework 0\n",
        "1. Upload both files\n",
        "1. PLEASE CHECK THE AUTOGRADER OUTPUT TO ENSURE YOUR SUBMISSION IS PROCESSED CORRECTLY!\n",
        "\n",
        "**NOTE: in future HW, we will apply a penalty if we have to re-upload your submission to Gradescope after the deadline.**\n",
        "\n",
        "You should be set! Note that this assignment has 8 autograded points and 2 manually graded points! The autograded points will show upon submission, but the manually graded portion will be graded by your TAs after the deadline has passed."
      ]
    },
    {
      "cell_type": "code",
      "source": [],
      "metadata": {
        "id": "ioMzo_qJ2fxL"
      },
      "execution_count": null,
      "outputs": []
    }
  ],
  "metadata": {
    "colab": {
      "provenance": [],
      "include_colab_link": true
    },
    "kernelspec": {
      "display_name": "Python 3",
      "name": "python3"
    }
  },
  "nbformat": 4,
  "nbformat_minor": 0
}